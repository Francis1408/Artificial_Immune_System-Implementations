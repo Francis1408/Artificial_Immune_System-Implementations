{
 "cells": [
  {
   "cell_type": "code",
   "execution_count": 41,
   "id": "f86ec8fd",
   "metadata": {},
   "outputs": [],
   "source": [
    "from sklearn.datasets import load_iris\n",
    "from sklearn.model_selection import train_test_split\n",
    "from sklearn.preprocessing import StandardScaler\n",
    "import numpy as np\n",
    "import random "
   ]
  },
  {
   "cell_type": "code",
   "execution_count": 20,
   "id": "f811aec4",
   "metadata": {},
   "outputs": [],
   "source": [
    "# Carrega o data set\n",
    "data = load_iris()\n",
    "\n",
    "# Atribui valores à entrada e à saída \n",
    "X = data.data\n",
    "y = data.target"
   ]
  },
  {
   "cell_type": "code",
   "execution_count": 26,
   "id": "8931e84f",
   "metadata": {},
   "outputs": [
    {
     "name": "stdout",
     "output_type": "stream",
     "text": [
      "Dados para treinamento: 120\n",
      "Dados para teste: 30\n"
     ]
    }
   ],
   "source": [
    "# Separando dados para treinamento e teste\n",
    "X_train, X_test, y_train, y_test = train_test_split(X, y, test_size=0.2, random_state=42)\n",
    "\n",
    "print(f'Dados para treinamento: {len(X_train)}\\nDados para teste: {len(X_test)}')"
   ]
  },
  {
   "cell_type": "markdown",
   "id": "b6ec95ba",
   "metadata": {},
   "source": [
    "### PARÂMETROS GLOBAIS"
   ]
  },
  {
   "cell_type": "code",
   "execution_count": 64,
   "id": "d5b491de",
   "metadata": {},
   "outputs": [],
   "source": [
    "CLASS_NUM = 3\n",
    "POPULATION_SIZE = 60\n",
    "SELECTION_RATE = 0.2 # 20%\n"
   ]
  },
  {
   "cell_type": "markdown",
   "id": "7e6c58f3",
   "metadata": {},
   "source": [
    "### GERAÇÃO DA POPULAÇÃO DE ANTICORPOS"
   ]
  },
  {
   "cell_type": "code",
   "execution_count": 28,
   "id": "0cab2ce1",
   "metadata": {},
   "outputs": [],
   "source": [
    "# Classe Anticorpo\n",
    "\n",
    "class Antibody:\n",
    "    def __init__(self, vector, label):\n",
    "        self.vector = vector\n",
    "        self.label = label\n",
    "        self.affinity = None"
   ]
  },
  {
   "cell_type": "code",
   "execution_count": 55,
   "id": "66dfe8c4",
   "metadata": {},
   "outputs": [],
   "source": [
    "# Classe Antígeno\n",
    "\n",
    "class Antigen:\n",
    "    def __init__(self, vector, label):\n",
    "        self.vector = vector\n",
    "        self.label = label"
   ]
  },
  {
   "cell_type": "markdown",
   "id": "f36c00f5",
   "metadata": {},
   "source": [
    "Para a geração da população, iremos escolher aleatoriamente os valores do vetor, dentro de um limite estimado pelo menor e maior valor de cada coluna do dataset.\n",
    "\n",
    "Por fim, iremos atribuir igualmente as labels para cada anticorpo,de modo que cada classe tenha a mesma quantidade de anticorpos gerados."
   ]
  },
  {
   "cell_type": "code",
   "execution_count": 40,
   "id": "e2184e3d",
   "metadata": {},
   "outputs": [
    {
     "name": "stdout",
     "output_type": "stream",
     "text": [
      "Limite do comprimento da sépala: [4.3, 7.7]\n",
      "Limite da largura da sépala: [2.0, 4.4]\n",
      "Limite do comprimento da pétala: [1.0, 6.7]\n",
      "Limite da largura da sépala: [0.1, 2.5]\n",
      "\n"
     ]
    }
   ],
   "source": [
    "# Extraindo o valor minimo e máximo de cada atributo da Iris\n",
    "\n",
    "min_sepal_length = min(X_train[:, 0])\n",
    "max_sepal_length = max(X_train[:, 0])\n",
    "\n",
    "min_sepal_width = min(X_train[:, 1])\n",
    "max_sepal_width = max(X_train[:, 1])\n",
    "\n",
    "min_petal_length = min(X_train[:, 2])\n",
    "max_petal_length = max(X_train[:, 2])\n",
    "\n",
    "min_petal_width = min(X_train[:, 3])\n",
    "max_petal_width = max(X_train[:, 3])\n",
    "\n",
    "print(f'Limite do comprimento da sépala: [{min_sepal_length}, {max_sepal_length}]\\nLimite da largura da sépala: [{min_sepal_width}, {max_sepal_width}]\\nLimite do comprimento da pétala: [{min_petal_length}, {max_petal_length}]\\nLimite da largura da sépala: [{min_petal_width}, {max_petal_width}]\\n')"
   ]
  },
  {
   "cell_type": "code",
   "execution_count": null,
   "id": "9bdc4eb4",
   "metadata": {},
   "outputs": [],
   "source": [
    "# Função para gerar um anticorpo\n",
    "\n",
    "def generateAntibody(label):\n",
    "\n",
    "    # Escolhe um valor aleatorio dentro da faixa estimada\n",
    "    vector = [\n",
    "        random.uniform(min_sepal_length, max_sepal_length),\n",
    "        random.uniform(min_sepal_width, max_sepal_width),\n",
    "        random.uniform(min_petal_length, max_sepal_length),\n",
    "        random.uniform(min_petal_width, max_petal_width)\n",
    "    ]\n",
    "    \n",
    "    antibody = Antibody(vector, label)\n",
    "    return antibody"
   ]
  },
  {
   "cell_type": "code",
   "execution_count": null,
   "id": "c29239a4",
   "metadata": {},
   "outputs": [],
   "source": [
    "# Função para criar a população com base no seu tamanho e numero de classes\n",
    "\n",
    "def generatePopulation():\n",
    "\n",
    "    population = []\n",
    "    # Cria labels igualmente com base no numero de classes\n",
    "    labels = [i % CLASS_NUM for i in range(POPULATION_SIZE)]\n",
    "\n",
    "    for i in range(POPULATION_SIZE):\n",
    "        population.append(generateAntibody(labels[i]))\n",
    "    \n",
    "    return population"
   ]
  },
  {
   "cell_type": "markdown",
   "id": "6cef5d32",
   "metadata": {},
   "source": [
    "### Avaliação do Fitness"
   ]
  },
  {
   "cell_type": "code",
   "execution_count": 53,
   "id": "db560aaa",
   "metadata": {},
   "outputs": [],
   "source": [
    "# Função para a avaliação do fitness em relação ao antígeno\n",
    "# O maior fitness possível será igual a 1\n",
    "\n",
    "def evaluateFitness(antibody, antigen):\n",
    "    # Caso possuam a mesma label\n",
    "    if antibody.label == antigen.label:\n",
    "    \n",
    "        \"\"\"\n",
    "        Utiliza-se o calcúlo do inverso da distância Euclidiana\n",
    "        para avaliar o fitness. Logo\n",
    "\n",
    "        Nota = 1/Distancia(anticorpo, antigeno)\n",
    "\n",
    "        quanto menor a distancia, maior será  nota\n",
    "        \"\"\"\n",
    "        # Método do NumPy que calcula a distância euclidiana entre dois pontos\n",
    "        distance = np.linalg.norm(np.array(antibody.vector) - np.array(antigen.vector))\n",
    "\n",
    "        return 1/(1 + distance) # Operação para evitar distância com zero\n",
    "    # Significa que o anticorpo eh um falso positivo   \n",
    "    else: \n",
    "        return 0\n"
   ]
  },
  {
   "cell_type": "code",
   "execution_count": null,
   "id": "0320d867",
   "metadata": {},
   "outputs": [
    {
     "name": "stdout",
     "output_type": "stream",
     "text": [
      "Para o Antígeno 0 de vetor [4.6 3.6 1.  0.2]\n",
      "\n",
      "Anticorpo 0, [6.316908703315413, 3.7964986294338043, 7.551554524057862, 2.4516491130990383] : 0.12285056925792401\n",
      "\n",
      "Anticorpo 1, [7.492276261585225, 4.374475228768263, 3.044885188796934, 1.7115298274150743] : 0\n",
      "\n",
      "Anticorpo 2, [6.821563570381018, 2.2974642178329003, 7.148431035348683, 1.3584063618688864] : 0\n",
      "\n",
      "Anticorpo 0, [7.419995622398515, 4.240986131491162, 1.839821713466541, 1.0007543546545874] : 0.24295157240965035\n",
      "\n",
      "Anticorpo 1, [7.213680749409002, 3.024174529297866, 6.872729807436186, 1.9620084114244474] : 0\n",
      "\n",
      "Anticorpo 2, [7.562002716246085, 2.0243341779333592, 4.52065831086544, 2.036720452682238] : 0\n",
      "\n",
      "Anticorpo 0, [7.047287379164613, 2.7040800166433634, 6.777651463568613, 1.995869549527432] : 0.13179158261716153\n",
      "\n",
      "Anticorpo 1, [6.424498700101229, 3.321091396861932, 1.8666293433353176, 1.232744909657713] : 0\n",
      "\n",
      "Anticorpo 2, [7.4735154979291, 2.278318243129049, 6.048433587013066, 0.2814616787839981] : 0\n",
      "\n",
      "Anticorpo 0, [6.727948377386975, 4.175284378960736, 7.469669561138151, 2.2246127476996334] : 0.1230246870055541\n",
      "\n",
      "Anticorpo 1, [6.730895505341693, 3.2471185426643547, 5.476062146879436, 0.40727277123694705] : 0\n",
      "\n",
      "Anticorpo 2, [4.9341537767095325, 3.813317534325403, 1.1779012587322735, 0.11551733923928893] : 0\n",
      "\n",
      "Anticorpo 0, [7.393738820509563, 4.275622302270081, 2.088780930218547, 0.7945082070193777] : 0.24209867171854024\n",
      "\n",
      "Anticorpo 1, [6.1524838117418925, 2.7624360216062014, 2.101685133864035, 2.3851136517377918] : 0\n",
      "\n",
      "Anticorpo 2, [6.12453534574179, 2.498672910066356, 7.643207972444552, 0.5202724568833526] : 0\n",
      "\n",
      "Anticorpo 0, [6.820493717211789, 2.484915581576334, 7.17830146651169, 2.013033194072006] : 0.12655615775942408\n",
      "\n",
      "Anticorpo 1, [7.176052505140693, 2.092385321816421, 5.254309709062773, 0.5709975480683458] : 0\n",
      "\n",
      "Anticorpo 2, [7.646084261369099, 3.506110884093368, 3.838841918292888, 0.4614095302711282] : 0\n",
      "\n",
      "Anticorpo 0, [6.160341647459305, 4.130299839288597, 5.10642658885446, 0.9319886959274478] : 0.18231834884657963\n",
      "\n",
      "Anticorpo 1, [4.470597483019905, 3.0954037887219705, 7.070034709325914, 2.4078053380127566] : 0\n",
      "\n",
      "Anticorpo 2, [5.788652621707879, 2.8581549363220375, 7.125474674434531, 2.4858482431437436] : 0\n",
      "\n",
      "Anticorpo 0, [7.638454977961587, 4.239721215520877, 1.4242963310894265, 0.22239919220454718] : 0.24189623504913946\n",
      "\n",
      "Anticorpo 1, [5.953992943392009, 4.332495974582714, 3.7659140334654535, 0.8488465692061258] : 0\n",
      "\n",
      "Anticorpo 2, [4.493876762945636, 2.9617115919257233, 1.9589409811789587, 0.6205949920332415] : 0\n",
      "\n",
      "Anticorpo 0, [5.03518109357077, 3.6859101891336463, 4.134057557674862, 1.3949387716571446] : 0.2281367733457791\n",
      "\n",
      "Anticorpo 1, [5.692656212029798, 2.7784334332926592, 1.104170275508097, 0.9856235882764958] : 0\n",
      "\n",
      "Anticorpo 2, [6.375809761250247, 3.4034253086094246, 7.406037723202203, 2.2080805677954407] : 0\n",
      "\n",
      "Anticorpo 0, [5.9382155654173, 3.1449663475165015, 7.329673322339714, 1.6706009579445509] : 0.1307153466809497\n",
      "\n",
      "Anticorpo 1, [4.839191445601399, 3.8944470496513888, 5.314822281014981, 1.790562642941009] : 0\n",
      "\n",
      "Anticorpo 2, [4.549983378709847, 4.208406354393872, 2.9663178435858066, 0.6280719564890186] : 0\n",
      "\n",
      "Anticorpo 0, [4.322464277217099, 2.3301298846805008, 2.463085501148919, 2.086112808323019] : 0.26896030504769014\n",
      "\n",
      "Anticorpo 1, [6.654442684441772, 3.3134007525020293, 1.3236840912904217, 1.4483065622945983] : 0\n",
      "\n",
      "Anticorpo 2, [7.601714709390963, 2.272711427427387, 1.3082237140513069, 0.9066794689255738] : 0\n",
      "\n",
      "Anticorpo 0, [7.234953561643724, 4.250611635637286, 3.8682889832411917, 1.035928964250916] : 0.19855642896896775\n",
      "\n",
      "Anticorpo 1, [4.94740163523855, 2.7391141052731878, 3.4040767415039936, 1.7458197077990858] : 0\n",
      "\n",
      "Anticorpo 2, [4.834495668003944, 3.4882551896108467, 3.883486265369506, 0.13841598164568927] : 0\n",
      "\n",
      "Anticorpo 0, [5.3106353116830585, 3.2615007176478517, 7.135695125112976, 1.7212499992680146] : 0.13567994971908734\n",
      "\n",
      "Anticorpo 1, [4.830630549107298, 3.7718239178100426, 7.304668416633368, 2.4432106893839256] : 0\n",
      "\n",
      "Anticorpo 2, [6.6707226304072105, 3.1630246746259965, 3.913601835591331, 2.4475687085456124] : 0\n",
      "\n",
      "Anticorpo 0, [4.408488518732642, 2.9662076074585864, 3.781760736882497, 2.449771635562377] : 0.21559107171692124\n",
      "\n",
      "Anticorpo 1, [6.581678640479061, 3.2687252292082634, 3.3443361127252453, 0.875939191602082] : 0\n",
      "\n",
      "Anticorpo 2, [5.614909162309821, 2.3501214613131944, 4.059906825777286, 0.9078742802880407] : 0\n",
      "\n",
      "Anticorpo 0, [4.836935525788048, 3.205263634804302, 7.135246048663424, 0.18067829702056243] : 0.13981075219400507\n",
      "\n",
      "Anticorpo 1, [4.48364006260198, 4.356793056794235, 2.1255615810519943, 1.1780766793657305] : 0\n",
      "\n",
      "Anticorpo 2, [6.304198925114635, 2.570903586255067, 2.7239093851561718, 1.1765426895277116] : 0\n",
      "\n",
      "Anticorpo 0, [5.625620532078613, 4.244006561946152, 3.137425346735329, 1.7537361834911953] : 0.2559657755250283\n",
      "\n",
      "Anticorpo 1, [4.993263557325612, 3.2495079289291864, 1.5310754741869463, 1.9096056561651515] : 0\n",
      "\n",
      "Anticorpo 2, [5.944840915316078, 2.5444115094035884, 5.484316213784075, 0.7408519546190075] : 0\n",
      "\n",
      "Anticorpo 0, [6.659234485209449, 3.8510402212470636, 2.522281504075494, 0.3983529475194876] : 0.2792728829808624\n",
      "\n",
      "Anticorpo 1, [7.209541133346814, 3.3258025569458347, 1.5659383809855276, 0.9092576965574566] : 0\n",
      "\n",
      "Anticorpo 2, [5.159359205829055, 2.8177574976143243, 3.1466448905810314, 2.2927812382675796] : 0\n",
      "\n",
      "Anticorpo 0, [6.874177600781117, 3.9658395082347706, 6.0311296073375615, 1.6834534148929527] : 0.14861592681530889\n",
      "\n",
      "Anticorpo 1, [5.83002130035694, 3.2701538017381275, 4.9107214896915155, 1.7487746867871403] : 0\n",
      "\n",
      "Anticorpo 2, [7.534484137921425, 2.211854972058335, 2.329460108795292, 1.3609388078332472] : 0\n",
      "\n",
      "Anticorpo 0, [6.842617569195324, 4.099772720889393, 1.5466769902156747, 1.97314625059131] : 0.2529529169426308\n",
      "\n",
      "Anticorpo 1, [6.874052114086377, 3.8487631461419896, 1.7794668521006223, 2.052991801996024] : 0\n",
      "\n",
      "Anticorpo 2, [6.325488813130304, 2.6462451441470503, 6.404699573134827, 1.3209244242150713] : 0\n",
      "\n",
      "Anticorpo 0, [4.465039313054411, 3.4158836246891457, 4.356382340151068, 0.43570970139757137] : 0.2287081763275899\n",
      "\n",
      "Anticorpo 1, [4.7520787436201735, 2.851027454141576, 1.5056671041700582, 1.7720016830338898] : 0\n",
      "\n",
      "Anticorpo 2, [5.785241241774582, 2.081181811292529, 5.259004060424362, 0.17713151896706741] : 0\n",
      "\n"
     ]
    }
   ],
   "source": [
    "# Célula para realização de teste\n",
    "pop = generatePopulation() # Gera uma população\n",
    "antigen = Antigen(X_train[0], y_train[0]) # Pega o primeiro antigeno\n",
    "\n",
    "# Realiza a avaliação de cada anticorpo da população\n",
    "print(f'Para o Antígeno {antigen.label} de vetor {antigen.vector}\\n')\n",
    "for antibody in pop:\n",
    "    print(f'Anticorpo {antibody.label}, {antibody.vector} : {evaluateFitness(antibody, antigen)}\\n')"
   ]
  },
  {
   "cell_type": "markdown",
   "id": "c7349f57",
   "metadata": {},
   "source": [
    "### Seleção dos N melhores anticorpos"
   ]
  },
  {
   "cell_type": "code",
   "execution_count": null,
   "id": "af721c95",
   "metadata": {},
   "outputs": [],
   "source": [
    "# Função para realizar a seleção\n",
    "\n",
    "def selectBestFitness(evaluated_antibodies):\n",
    "    # Ordena a lista do menor para o maior fitness\n",
    "    ordered_list = sorted(evaluated_antibodies, key=lambda x : x[0], reverse=True)\n",
    "\n",
    "    # Determina a quantidade de melhores com base no SELECTION RATE\n",
    "    best_qtd = int(POPULATION_SIZE * SELECTION_RATE)\n",
    "    # Seleciona essa quantidade na lista\n",
    "    bests = ordered_list[:best_qtd]\n",
    "    return bests # Retorna a parcela da lista selectionada"
   ]
  },
  {
   "cell_type": "code",
   "execution_count": null,
   "id": "f8a48f7a",
   "metadata": {},
   "outputs": [
    {
     "name": "stdout",
     "output_type": "stream",
     "text": [
      "Anticorpo 1 : 0.2792728829808624\n",
      "Anticorpo 2 : 0.26896030504769014\n",
      "Anticorpo 3 : 0.2559657755250283\n",
      "Anticorpo 4 : 0.2529529169426308\n",
      "Anticorpo 5 : 0.24295157240965035\n",
      "Anticorpo 6 : 0.24209867171854024\n",
      "Anticorpo 7 : 0.24189623504913946\n",
      "Anticorpo 8 : 0.2287081763275899\n",
      "Anticorpo 9 : 0.2281367733457791\n",
      "Anticorpo 10 : 0.21559107171692124\n",
      "Anticorpo 11 : 0.19855642896896775\n",
      "Anticorpo 12 : 0.18231834884657963\n"
     ]
    }
   ],
   "source": [
    "# Célula para realização de teste\n",
    "\n",
    "# Lista com os anticorpos e seus respectivos fitness\n",
    "evaluated_antibodies = []\n",
    "\n",
    "for antibody in pop:\n",
    "    evaluated_antibody = []\n",
    "    # Avalia o fitness de cada anticorpo\n",
    "    evaluated_antibody.append(evaluateFitness(antibody, antigen))\n",
    "    evaluated_antibody.append(antibody)\n",
    "    # Adiciona a lista com o anticorpo e seu fitness\n",
    "    evaluated_antibodies.append(evaluated_antibody)\n",
    "\n",
    "# Resgata os N melhores fitness\n",
    "bests = selectBestFitness(evaluated_antibodies)\n",
    "\n",
    "#Imprime\n",
    "for i ,antibody in enumerate(bests):\n",
    "    print(f'Anticorpo {i + 1} : {antibody[0]}')"
   ]
  },
  {
   "cell_type": "markdown",
   "id": "07d33cda",
   "metadata": {},
   "source": [
    "### Clonagem dos anticorpos mais promissores"
   ]
  },
  {
   "cell_type": "markdown",
   "id": "00cc2dd1",
   "metadata": {},
   "source": [
    "Para a etapa de clonagem, utilizamos o seguinte equação para definir quantos clones cada fitness irá receber:\n",
    "\n",
    "$$\n",
    "QC^i_k = \\left( \\frac{af^i_k}{\\sum_{k=1}^{n} af^i_k} \\right) \\cdot Cl\n",
    "$$\n",
    "\n",
    "Onde:\n",
    "- `QC^i_k`: Quantidade de clones gerados para o anticorpo *k* na iteração *i*\n",
    "- `af^i_k`: Afinidade do anticorpo *k* na iteração *i*\n",
    "- `Cl`: Quantidade total de clones a serem distribuídos\n",
    "- `n`: Número total de anticorpos selecionados"
   ]
  },
  {
   "cell_type": "markdown",
   "metadata": {},
   "source": []
  },
  {
   "cell_type": "code",
   "execution_count": 74,
   "id": "39023031",
   "metadata": {},
   "outputs": [],
   "source": [
    "# Função para realizar a clonagem\n",
    "\n",
    "def clone(bests):\n",
    "\n",
    "    # Lista final para armazenar os clone\n",
    "    clones = []\n",
    "\n",
    "    # Define o numero total de clone\n",
    "    total_clones = POPULATION_SIZE - len(bests)\n",
    "\n",
    "    # Somatorio de afinidades\n",
    "    fitness = [x[0] for x in bests] # cria lista de afinidades\n",
    "    fitness_sum = sum(fitness) # Soma total das afinidades\n",
    "\n",
    "    # Lista temporária para armazenar as classes de anticorpos\n",
    "    antibodies = [x[1] for x in bests] # cria uma lista de anticorpos\n",
    "\n",
    "    # Calcula a quantidade de clones para cada fitness e armazena em uma lista\n",
    "    qtd_clones = [round((c/fitness_sum) * total_clones) for c in fitness]\n",
    "\n",
    "    # Realiza a clonagem ideal para cada fitness e armazena na lista final de clones\n",
    "    counter = 0\n",
    "    while counter < len(qtd_clones):\n",
    "        for i in range(qtd_clones[counter]):\n",
    "            # Lista que armazena a classe do anticorpo e seu fitness\n",
    "            pair = []\n",
    "            pair.append(fitness[counter])\n",
    "            pair.append(antibodies[counter])\n",
    "            # Salva na lista final\n",
    "            clones.append(pair)\n",
    "        counter += 1\n",
    "    \n",
    "    # Retorna o total de clones\n",
    "    return clones"
   ]
  },
  {
   "cell_type": "code",
   "execution_count": 75,
   "id": "c0ab581a",
   "metadata": {},
   "outputs": [
    {
     "name": "stdout",
     "output_type": "stream",
     "text": [
      "Clone 1: 0.2792728829808624\n",
      "Clone 2: 0.2792728829808624\n",
      "Clone 3: 0.2792728829808624\n",
      "Clone 4: 0.2792728829808624\n",
      "Clone 5: 0.2792728829808624\n",
      "Clone 6: 0.26896030504769014\n",
      "Clone 7: 0.26896030504769014\n",
      "Clone 8: 0.26896030504769014\n",
      "Clone 9: 0.26896030504769014\n",
      "Clone 10: 0.26896030504769014\n",
      "Clone 11: 0.2559657755250283\n",
      "Clone 12: 0.2559657755250283\n",
      "Clone 13: 0.2559657755250283\n",
      "Clone 14: 0.2559657755250283\n",
      "Clone 15: 0.2529529169426308\n",
      "Clone 16: 0.2529529169426308\n",
      "Clone 17: 0.2529529169426308\n",
      "Clone 18: 0.2529529169426308\n",
      "Clone 19: 0.24295157240965035\n",
      "Clone 20: 0.24295157240965035\n",
      "Clone 21: 0.24295157240965035\n",
      "Clone 22: 0.24295157240965035\n",
      "Clone 23: 0.24209867171854024\n",
      "Clone 24: 0.24209867171854024\n",
      "Clone 25: 0.24209867171854024\n",
      "Clone 26: 0.24209867171854024\n",
      "Clone 27: 0.24189623504913946\n",
      "Clone 28: 0.24189623504913946\n",
      "Clone 29: 0.24189623504913946\n",
      "Clone 30: 0.24189623504913946\n",
      "Clone 31: 0.2287081763275899\n",
      "Clone 32: 0.2287081763275899\n",
      "Clone 33: 0.2287081763275899\n",
      "Clone 34: 0.2287081763275899\n",
      "Clone 35: 0.2281367733457791\n",
      "Clone 36: 0.2281367733457791\n",
      "Clone 37: 0.2281367733457791\n",
      "Clone 38: 0.2281367733457791\n",
      "Clone 39: 0.21559107171692124\n",
      "Clone 40: 0.21559107171692124\n",
      "Clone 41: 0.21559107171692124\n",
      "Clone 42: 0.21559107171692124\n",
      "Clone 43: 0.19855642896896775\n",
      "Clone 44: 0.19855642896896775\n",
      "Clone 45: 0.19855642896896775\n",
      "Clone 46: 0.18231834884657963\n",
      "Clone 47: 0.18231834884657963\n",
      "Clone 48: 0.18231834884657963\n",
      "Total de clones gerados: 48\n"
     ]
    }
   ],
   "source": [
    "# Célula para a realização de teste\n",
    "clones = clone(bests)\n",
    "counter = 0\n",
    "\n",
    "for i, clone in enumerate(clones):\n",
    "    print(f'Clone {i + 1}: {clone[0]}')\n",
    "    counter+= 1\n",
    "    \n",
    "\n",
    "print(f'Total de clones gerados: {counter}')"
   ]
  },
  {
   "cell_type": "markdown",
   "id": "bcf33cc3",
   "metadata": {},
   "source": [
    "### Hipermutação dos anticorpos de acordo com a afinidade"
   ]
  },
  {
   "cell_type": "markdown",
   "id": "f91bca65",
   "metadata": {},
   "source": []
  }
 ],
 "metadata": {
  "kernelspec": {
   "display_name": "Python 3",
   "language": "python",
   "name": "python3"
  },
  "language_info": {
   "codemirror_mode": {
    "name": "ipython",
    "version": 3
   },
   "file_extension": ".py",
   "mimetype": "text/x-python",
   "name": "python",
   "nbconvert_exporter": "python",
   "pygments_lexer": "ipython3",
   "version": "3.12.3"
  }
 },
 "nbformat": 4,
 "nbformat_minor": 5
}
