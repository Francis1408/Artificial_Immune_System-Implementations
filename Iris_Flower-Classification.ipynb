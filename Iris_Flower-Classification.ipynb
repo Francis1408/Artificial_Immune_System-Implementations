{
 "cells": [
  {
   "cell_type": "code",
   "execution_count": 41,
   "id": "f86ec8fd",
   "metadata": {},
   "outputs": [],
   "source": [
    "from sklearn.datasets import load_iris\n",
    "from sklearn.model_selection import train_test_split\n",
    "from sklearn.preprocessing import StandardScaler\n",
    "import numpy as np\n",
    "import random "
   ]
  },
  {
   "cell_type": "code",
   "execution_count": 20,
   "id": "f811aec4",
   "metadata": {},
   "outputs": [],
   "source": [
    "# Carrega o data set\n",
    "data = load_iris()\n",
    "\n",
    "# Atribui valores à entrada e à saída \n",
    "X = data.data\n",
    "y = data.target"
   ]
  },
  {
   "cell_type": "code",
   "execution_count": 26,
   "id": "8931e84f",
   "metadata": {},
   "outputs": [
    {
     "name": "stdout",
     "output_type": "stream",
     "text": [
      "Dados para treinamento: 120\n",
      "Dados para teste: 30\n"
     ]
    }
   ],
   "source": [
    "# Separando dados para treinamento e teste\n",
    "X_train, X_test, y_train, y_test = train_test_split(X, y, test_size=0.2, random_state=42)\n",
    "\n",
    "print(f'Dados para treinamento: {len(X_train)}\\nDados para teste: {len(X_test)}')"
   ]
  },
  {
   "cell_type": "markdown",
   "id": "b6ec95ba",
   "metadata": {},
   "source": [
    "### PARÂMETROS GLOBAIS"
   ]
  },
  {
   "cell_type": "code",
   "execution_count": 33,
   "id": "d5b491de",
   "metadata": {},
   "outputs": [
    {
     "data": {
      "text/plain": [
       "array([[4.6, 3.6, 1. , 0.2],\n",
       "       [5.7, 4.4, 1.5, 0.4],\n",
       "       [6.7, 3.1, 4.4, 1.4],\n",
       "       [4.8, 3.4, 1.6, 0.2],\n",
       "       [4.4, 3.2, 1.3, 0.2],\n",
       "       [6.3, 2.5, 5. , 1.9],\n",
       "       [6.4, 3.2, 4.5, 1.5],\n",
       "       [5.2, 3.5, 1.5, 0.2],\n",
       "       [5. , 3.6, 1.4, 0.2],\n",
       "       [5.2, 4.1, 1.5, 0.1],\n",
       "       [5.8, 2.7, 5.1, 1.9],\n",
       "       [6. , 3.4, 4.5, 1.6],\n",
       "       [6.7, 3.1, 4.7, 1.5],\n",
       "       [5.4, 3.9, 1.3, 0.4],\n",
       "       [5.4, 3.7, 1.5, 0.2],\n",
       "       [5.5, 2.4, 3.7, 1. ],\n",
       "       [6.3, 2.8, 5.1, 1.5],\n",
       "       [6.4, 3.1, 5.5, 1.8],\n",
       "       [6.6, 3. , 4.4, 1.4],\n",
       "       [7.2, 3.6, 6.1, 2.5],\n",
       "       [5.7, 2.9, 4.2, 1.3],\n",
       "       [7.6, 3. , 6.6, 2.1],\n",
       "       [5.6, 3. , 4.5, 1.5],\n",
       "       [5.1, 3.5, 1.4, 0.2],\n",
       "       [7.7, 2.8, 6.7, 2. ],\n",
       "       [5.8, 2.7, 4.1, 1. ],\n",
       "       [5.2, 3.4, 1.4, 0.2],\n",
       "       [5. , 3.5, 1.3, 0.3],\n",
       "       [5.1, 3.8, 1.9, 0.4],\n",
       "       [5. , 2. , 3.5, 1. ],\n",
       "       [6.3, 2.7, 4.9, 1.8],\n",
       "       [4.8, 3.4, 1.9, 0.2],\n",
       "       [5. , 3. , 1.6, 0.2],\n",
       "       [5.1, 3.3, 1.7, 0.5],\n",
       "       [5.6, 2.7, 4.2, 1.3],\n",
       "       [5.1, 3.4, 1.5, 0.2],\n",
       "       [5.7, 3. , 4.2, 1.2],\n",
       "       [7.7, 3.8, 6.7, 2.2],\n",
       "       [4.6, 3.2, 1.4, 0.2],\n",
       "       [6.2, 2.9, 4.3, 1.3],\n",
       "       [5.7, 2.5, 5. , 2. ],\n",
       "       [5.5, 4.2, 1.4, 0.2],\n",
       "       [6. , 3. , 4.8, 1.8],\n",
       "       [5.8, 2.7, 5.1, 1.9],\n",
       "       [6. , 2.2, 4. , 1. ],\n",
       "       [5.4, 3. , 4.5, 1.5],\n",
       "       [6.2, 3.4, 5.4, 2.3],\n",
       "       [5.5, 2.3, 4. , 1.3],\n",
       "       [5.4, 3.9, 1.7, 0.4],\n",
       "       [5. , 2.3, 3.3, 1. ],\n",
       "       [6.4, 2.7, 5.3, 1.9],\n",
       "       [5. , 3.3, 1.4, 0.2],\n",
       "       [5. , 3.2, 1.2, 0.2],\n",
       "       [5.5, 2.4, 3.8, 1.1],\n",
       "       [6.7, 3. , 5. , 1.7],\n",
       "       [4.9, 3.1, 1.5, 0.2],\n",
       "       [5.8, 2.8, 5.1, 2.4],\n",
       "       [5. , 3.4, 1.5, 0.2],\n",
       "       [5. , 3.5, 1.6, 0.6],\n",
       "       [5.9, 3.2, 4.8, 1.8],\n",
       "       [5.1, 2.5, 3. , 1.1],\n",
       "       [6.9, 3.2, 5.7, 2.3],\n",
       "       [6. , 2.7, 5.1, 1.6],\n",
       "       [6.1, 2.6, 5.6, 1.4],\n",
       "       [7.7, 3. , 6.1, 2.3],\n",
       "       [5.5, 2.5, 4. , 1.3],\n",
       "       [4.4, 2.9, 1.4, 0.2],\n",
       "       [4.3, 3. , 1.1, 0.1],\n",
       "       [6. , 2.2, 5. , 1.5],\n",
       "       [7.2, 3.2, 6. , 1.8],\n",
       "       [4.6, 3.1, 1.5, 0.2],\n",
       "       [5.1, 3.5, 1.4, 0.3],\n",
       "       [4.4, 3. , 1.3, 0.2],\n",
       "       [6.3, 2.5, 4.9, 1.5],\n",
       "       [6.3, 3.4, 5.6, 2.4],\n",
       "       [4.6, 3.4, 1.4, 0.3],\n",
       "       [6.8, 3. , 5.5, 2.1],\n",
       "       [6.3, 3.3, 6. , 2.5],\n",
       "       [4.7, 3.2, 1.3, 0.2],\n",
       "       [6.1, 2.9, 4.7, 1.4],\n",
       "       [6.5, 2.8, 4.6, 1.5],\n",
       "       [6.2, 2.8, 4.8, 1.8],\n",
       "       [7. , 3.2, 4.7, 1.4],\n",
       "       [6.4, 3.2, 5.3, 2.3],\n",
       "       [5.1, 3.8, 1.6, 0.2],\n",
       "       [6.9, 3.1, 5.4, 2.1],\n",
       "       [5.9, 3. , 4.2, 1.5],\n",
       "       [6.5, 3. , 5.2, 2. ],\n",
       "       [5.7, 2.6, 3.5, 1. ],\n",
       "       [5.2, 2.7, 3.9, 1.4],\n",
       "       [6.1, 3. , 4.6, 1.4],\n",
       "       [4.5, 2.3, 1.3, 0.3],\n",
       "       [6.6, 2.9, 4.6, 1.3],\n",
       "       [5.5, 2.6, 4.4, 1.2],\n",
       "       [5.3, 3.7, 1.5, 0.2],\n",
       "       [5.6, 3. , 4.1, 1.3],\n",
       "       [7.3, 2.9, 6.3, 1.8],\n",
       "       [6.7, 3.3, 5.7, 2.1],\n",
       "       [5.1, 3.7, 1.5, 0.4],\n",
       "       [4.9, 2.4, 3.3, 1. ],\n",
       "       [6.7, 3.3, 5.7, 2.5],\n",
       "       [7.2, 3. , 5.8, 1.6],\n",
       "       [4.9, 3.6, 1.4, 0.1],\n",
       "       [6.7, 3.1, 5.6, 2.4],\n",
       "       [4.9, 3. , 1.4, 0.2],\n",
       "       [6.9, 3.1, 4.9, 1.5],\n",
       "       [7.4, 2.8, 6.1, 1.9],\n",
       "       [6.3, 2.9, 5.6, 1.8],\n",
       "       [5.7, 2.8, 4.1, 1.3],\n",
       "       [6.5, 3. , 5.5, 1.8],\n",
       "       [6.3, 2.3, 4.4, 1.3],\n",
       "       [6.4, 2.9, 4.3, 1.3],\n",
       "       [5.6, 2.8, 4.9, 2. ],\n",
       "       [5.9, 3. , 5.1, 1.8],\n",
       "       [5.4, 3.4, 1.7, 0.2],\n",
       "       [6.1, 2.8, 4. , 1.3],\n",
       "       [4.9, 2.5, 4.5, 1.7],\n",
       "       [5.8, 4. , 1.2, 0.2],\n",
       "       [5.8, 2.6, 4. , 1.2],\n",
       "       [7.1, 3. , 5.9, 2.1]])"
      ]
     },
     "execution_count": 33,
     "metadata": {},
     "output_type": "execute_result"
    }
   ],
   "source": [
    "CLASS_NUM = 3\n",
    "POPULATION_SIZE = 60\n",
    "\n",
    "X_train"
   ]
  },
  {
   "cell_type": "markdown",
   "id": "7e6c58f3",
   "metadata": {},
   "source": [
    "### GERAÇÃO DA POPULAÇÃO DE ANTICORPOS"
   ]
  },
  {
   "cell_type": "code",
   "execution_count": 28,
   "id": "0cab2ce1",
   "metadata": {},
   "outputs": [],
   "source": [
    "# Classe Anticorpo\n",
    "\n",
    "class Antibody:\n",
    "    def __init__(self, vector, label):\n",
    "        self.vector = vector\n",
    "        self.label = label\n",
    "        self.affinity = None"
   ]
  },
  {
   "cell_type": "markdown",
   "id": "f36c00f5",
   "metadata": {},
   "source": [
    "Para a geração da população, iremos escolher aleatoriamente os valores do vetor, dentro de um limite estimado pelo menor e maior valor de cada coluna do dataset.\n",
    "\n",
    "Por fim, iremos atribuir igualmente as labels para cada anticorpo,de modo que cada classe tenha a mesma quantidade de anticorpos gerados."
   ]
  },
  {
   "cell_type": "code",
   "execution_count": 40,
   "id": "e2184e3d",
   "metadata": {},
   "outputs": [
    {
     "name": "stdout",
     "output_type": "stream",
     "text": [
      "Limite do comprimento da sépala: [4.3, 7.7]\n",
      "Limite da largura da sépala: [2.0, 4.4]\n",
      "Limite do comprimento da pétala: [1.0, 6.7]\n",
      "Limite da largura da sépala: [0.1, 2.5]\n",
      "\n"
     ]
    }
   ],
   "source": [
    "# Extraindo o valor minimo e máximo de cada atributo da Iris\n",
    "\n",
    "min_sepal_length = min(X_train[:, 0])\n",
    "max_sepal_length = max(X_train[:, 0])\n",
    "\n",
    "min_sepal_width = min(X_train[:, 1])\n",
    "max_sepal_width = max(X_train[:, 1])\n",
    "\n",
    "min_petal_length = min(X_train[:, 2])\n",
    "max_petal_length = max(X_train[:, 2])\n",
    "\n",
    "min_petal_width = min(X_train[:, 3])\n",
    "max_petal_width = max(X_train[:, 3])\n",
    "\n",
    "print(f'Limite do comprimento da sépala: [{min_sepal_length}, {max_sepal_length}]\\nLimite da largura da sépala: [{min_sepal_width}, {max_sepal_width}]\\nLimite do comprimento da pétala: [{min_petal_length}, {max_petal_length}]\\nLimite da largura da sépala: [{min_petal_width}, {max_petal_width}]\\n')"
   ]
  },
  {
   "cell_type": "code",
   "execution_count": null,
   "id": "9bdc4eb4",
   "metadata": {},
   "outputs": [],
   "source": [
    "# Método para gerar um anticorpo\n",
    "\n",
    "def generateAntibody(label):\n",
    "\n",
    "    # Escolhe um valor aleatorio dentro da faixa estimada\n",
    "    vector = [\n",
    "        random.uniform(min_sepal_length, max_sepal_length),\n",
    "        random.uniform(min_sepal_width, max_sepal_width),\n",
    "        random.uniform(min_petal_length, max_sepal_length),\n",
    "        random.uniform(min_petal_width, max_petal_width)\n",
    "    ]\n",
    "    \n",
    "    antibody = Antibody(vector, label)\n",
    "    return antibody"
   ]
  },
  {
   "cell_type": "code",
   "execution_count": 47,
   "id": "c29239a4",
   "metadata": {},
   "outputs": [],
   "source": [
    "# Método para criar a população com base no seu tamanho e numero de classes\n",
    "\n",
    "def generatePopulation():\n",
    "\n",
    "    population = []\n",
    "    # Cria labels igualmente com base no numero de classes\n",
    "    labels = [i % CLASS_NUM for i in range(POPULATION_SIZE)]\n",
    "\n",
    "    for i in range(POPULATION_SIZE):\n",
    "        population.append(generateAntibody(labels[i]))\n",
    "    \n",
    "    return population"
   ]
  },
  {
   "cell_type": "code",
   "execution_count": 52,
   "id": "ead7ff71",
   "metadata": {},
   "outputs": [
    {
     "name": "stdout",
     "output_type": "stream",
     "text": [
      "0\n",
      "1\n",
      "2\n",
      "0\n",
      "1\n",
      "2\n",
      "0\n",
      "1\n",
      "2\n",
      "0\n",
      "1\n",
      "2\n",
      "0\n",
      "1\n",
      "2\n",
      "0\n",
      "1\n",
      "2\n",
      "0\n",
      "1\n",
      "2\n",
      "0\n",
      "1\n",
      "2\n",
      "0\n",
      "1\n",
      "2\n",
      "0\n",
      "1\n",
      "2\n",
      "0\n",
      "1\n",
      "2\n",
      "0\n",
      "1\n",
      "2\n",
      "0\n",
      "1\n",
      "2\n",
      "0\n",
      "1\n",
      "2\n",
      "0\n",
      "1\n",
      "2\n",
      "0\n",
      "1\n",
      "2\n",
      "0\n",
      "1\n",
      "2\n",
      "0\n",
      "1\n",
      "2\n",
      "0\n",
      "1\n",
      "2\n",
      "0\n",
      "1\n",
      "2\n"
     ]
    }
   ],
   "source": [
    "pop = generatePopulation()\n",
    "\n",
    "for i in pop:\n",
    "    print(i.label)"
   ]
  },
  {
   "cell_type": "code",
   "execution_count": null,
   "id": "db560aaa",
   "metadata": {},
   "outputs": [],
   "source": []
  }
 ],
 "metadata": {
  "kernelspec": {
   "display_name": "Python 3",
   "language": "python",
   "name": "python3"
  },
  "language_info": {
   "codemirror_mode": {
    "name": "ipython",
    "version": 3
   },
   "file_extension": ".py",
   "mimetype": "text/x-python",
   "name": "python",
   "nbconvert_exporter": "python",
   "pygments_lexer": "ipython3",
   "version": "3.12.3"
  }
 },
 "nbformat": 4,
 "nbformat_minor": 5
}
